{
 "cells": [
  {
   "cell_type": "markdown",
   "id": "218cec27-39fa-48ef-948c-eef16d2429b5",
   "metadata": {},
   "source": [
    "# Notebook for SentenceTransformers\n",
    "\n"
   ]
  },
  {
   "cell_type": "code",
   "execution_count": 1,
   "id": "568a1e55-8fe6-450c-bf73-663ec21060fc",
   "metadata": {},
   "outputs": [],
   "source": [
    "import numpy as np\n",
    "import os\n",
    "text = np.load(\"data/naturalist_title_text.npy\", allow_pickle=True)\n",
    "category_name = np.load(\"data/naturalist_category_name.npy\", allow_pickle=True)"
   ]
  },
  {
   "cell_type": "code",
   "execution_count": 8,
   "id": "f63b7ece-2215-43cf-95a5-1b273c7df9cb",
   "metadata": {},
   "outputs": [],
   "source": [
    "sentences = [text1 + ': ' + text2 for text1, text2 in zip(category_name, text)]"
   ]
  },
  {
   "cell_type": "code",
   "execution_count": 14,
   "id": "607a6709-5392-47b9-a135-1098d4cc30f1",
   "metadata": {},
   "outputs": [
    {
     "data": {
      "text/plain": [
       "512"
      ]
     },
     "execution_count": 14,
     "metadata": {},
     "output_type": "execute_result"
    }
   ],
   "source": [
    "from sentence_transformers import SentenceTransformer\n",
    "# Define the model\n",
    "model = SentenceTransformer('thenlper/gte-base')\n",
    "model.get_max_seq_length()"
   ]
  },
  {
   "cell_type": "code",
   "execution_count": 15,
   "id": "9462093e-14db-447f-995c-ad71c9962e5a",
   "metadata": {},
   "outputs": [
    {
     "name": "stdout",
     "output_type": "stream",
     "text": [
      "Embeddings computed. Shape: (11652, 768)\n"
     ]
    }
   ],
   "source": [
    "# Start the multi-process pool on all available CUDA devices\n",
    "pool = model.start_multi_process_pool()\n",
    "# Compute the embeddings using the multi-process pool\n",
    "emb = model.encode_multi_process(sentences, pool)\n",
    "print(\"Embeddings computed. Shape:\", emb.shape)\n",
    "# Optional: Stop the processes in the pool\n",
    "model.stop_multi_process_pool(pool)"
   ]
  },
  {
   "cell_type": "code",
   "execution_count": 18,
   "id": "c4477624-f2fb-41ec-8b0d-46cbf61e503e",
   "metadata": {},
   "outputs": [],
   "source": [
    "np.save(file=\"data/embeddings.npy\", arr=emb)"
   ]
  },
  {
   "cell_type": "code",
   "execution_count": null,
   "id": "13b831c9-d9a7-406b-b564-5f208782b14f",
   "metadata": {},
   "outputs": [],
   "source": []
  }
 ],
 "metadata": {
  "kernelspec": {
   "display_name": "Python 3 (ipykernel)",
   "language": "python",
   "name": "python3"
  },
  "language_info": {
   "codemirror_mode": {
    "name": "ipython",
    "version": 3
   },
   "file_extension": ".py",
   "mimetype": "text/x-python",
   "name": "python",
   "nbconvert_exporter": "python",
   "pygments_lexer": "ipython3",
   "version": "3.11.5"
  }
 },
 "nbformat": 4,
 "nbformat_minor": 5
}

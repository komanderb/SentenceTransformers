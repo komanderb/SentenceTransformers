{
 "cells": [
  {
   "cell_type": "markdown",
   "id": "4aa179e9-116a-45da-a1f7-b475a6d9570a",
   "metadata": {},
   "source": [
    "# Dimensionality reduction \n",
    "\n",
    "Just a small notebook for reducing the dimensions of my embeddings.\n",
    "UMAP can be quite problematic (see the latest talk on the genomics paper), however useful for reducing dimensions and the main purpose is to reduce the dimensions of our text to a minimum, so that we can see if less text dimensions and therefore less user dimensions will improve the models performance."
   ]
  },
  {
   "cell_type": "code",
   "execution_count": 2,
   "id": "84b411d1-f91f-4ef6-96ed-4c1d705b4bf8",
   "metadata": {},
   "outputs": [],
   "source": [
    "import numpy as np\n",
    "from umap import UMAP\n",
    "embeddings = np.load(\"data/embeddings.npy\", allow_pickle=True)\n",
    "umap_model = UMAP(n_components=100, n_neighbors=15, min_dist=0.0)\n",
    "reduced = umap_model.fit_transform(embeddings)"
   ]
  },
  {
   "cell_type": "code",
   "execution_count": 4,
   "id": "c767d999-2a91-4175-8902-0cffd0b9184c",
   "metadata": {},
   "outputs": [],
   "source": [
    "np.save(file=\"data/embeddings_100.npy\", arr=reduced)"
   ]
  }
 ],
 "metadata": {
  "kernelspec": {
   "display_name": "Python 3 (ipykernel)",
   "language": "python",
   "name": "python3"
  },
  "language_info": {
   "codemirror_mode": {
    "name": "ipython",
    "version": 3
   },
   "file_extension": ".py",
   "mimetype": "text/x-python",
   "name": "python",
   "nbconvert_exporter": "python",
   "pygments_lexer": "ipython3",
   "version": "3.11.5"
  }
 },
 "nbformat": 4,
 "nbformat_minor": 5
}
